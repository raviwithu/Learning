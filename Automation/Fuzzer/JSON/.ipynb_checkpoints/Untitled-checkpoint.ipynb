{
 "cells": [
  {
   "cell_type": "code",
   "execution_count": 5,
   "metadata": {},
   "outputs": [
    {
     "ename": "IndentationError",
     "evalue": "expected an indented block (<ipython-input-5-a7af670aa674>, line 58)",
     "output_type": "error",
     "traceback": [
      "\u001b[0;36m  File \u001b[0;32m\"<ipython-input-5-a7af670aa674>\"\u001b[0;36m, line \u001b[0;32m58\u001b[0m\n\u001b[0;31m    simple_types = []\u001b[0m\n\u001b[0m                     ^\u001b[0m\n\u001b[0;31mIndentationError\u001b[0m\u001b[0;31m:\u001b[0m expected an indented block\n"
     ]
    }
   ],
   "source": [
    "import json\n",
    "import string\n",
    "import random\n",
    "\n",
    "\n",
    "\n",
    "#Generate list of characters\n",
    "ALL_ASCII=[]\n",
    "for i in range(0, 120):\n",
    "    ALL_ASCII.append(chr(i))\n",
    "   \n",
    "# configuration\n",
    "MIN_NUMBER=-100000000000000\n",
    "MAX_NUMBER=100000000000000\n",
    "MAX_DICT_SIZE=10\n",
    "MAX_STRING_LENGTH=100\n",
    "CHARACTERS=string.printable\n",
    "\n",
    "active_types=[]\n",
    "simple_types=[]\n",
    "\n",
    "def json_int():\n",
    "    return random.randrange(MIN_NUMBER, MAX_NUMBER)\n",
    "\n",
    "def json_float():\n",
    "    return float(random.random()) * float(MAX_NUMBER) * random.choices([-1.0, 1.0])[0]\n",
    "\n",
    "def json_string():\n",
    "    random_string=\"\"\n",
    "    length = random.randrange(0, MAX_STRING_LENGTH)\n",
    "    for i in range(0, length):\n",
    "        random_string += random.choice(INSERT_CHARACTERS)\n",
    "    return random_string\n",
    "\n",
    "def json_bool():\n",
    "    return random.choices([True, False])[0]\n",
    "\n",
    "def json_random_simple_type():\n",
    "    f = random.choices(simple_types)[0]\n",
    "    return f()\n",
    "\n",
    "def json_random_type():\n",
    "    f = random.choices(active_types)[0]\n",
    "    return f()\n",
    "\n",
    "def json_dict():\n",
    "    dict_length = random.randrange(0, MAX_DICT_SIZE)\n",
    "    obj = []\n",
    "    for i in range(0, dict_length):\n",
    "        obj.append(json_random_simple_type())\n",
    "    return obj\n",
    "def json_array():\n",
    "    dict_length = random.randrange(0, MAX_DICT_SIZE)\n",
    "    obj = []\n",
    "    for i in range(0, dict_length):\n",
    "\n",
    "\n",
    "#simple_types = []\n",
    "simple_types = [json_int, json_float, json_string, json_bool, json_dict, json_array]\n",
    "\n",
    "\n",
    "print(json_dict())\n"
   ]
  },
  {
   "cell_type": "code",
   "execution_count": null,
   "metadata": {},
   "outputs": [],
   "source": []
  }
 ],
 "metadata": {
  "kernelspec": {
   "display_name": "Python 3",
   "language": "python",
   "name": "python3"
  },
  "language_info": {
   "codemirror_mode": {
    "name": "ipython",
    "version": 3
   },
   "file_extension": ".py",
   "mimetype": "text/x-python",
   "name": "python",
   "nbconvert_exporter": "python",
   "pygments_lexer": "ipython3",
   "version": "3.8.2"
  }
 },
 "nbformat": 4,
 "nbformat_minor": 4
}
