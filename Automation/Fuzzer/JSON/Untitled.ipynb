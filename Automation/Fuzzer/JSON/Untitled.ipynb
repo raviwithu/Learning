{
 "cells": [
  {
   "cell_type": "code",
   "execution_count": 7,
   "metadata": {},
   "outputs": [
    {
     "name": "stdout",
     "output_type": "stream",
     "text": [
      "[36249437882638.266]\n"
     ]
    }
   ],
   "source": [
    "import json\n",
    "import string\n",
    "import random\n",
    "\n",
    "\n",
    "\n",
    "#Generate list of characters\n",
    "ALL_ASCII=[]\n",
    "for i in range(0, 120):\n",
    "    ALL_ASCII.append(chr(i))\n",
    "   \n",
    "# configuration\n",
    "MIN_NUMBER=-100000000000000\n",
    "MAX_NUMBER=100000000000000\n",
    "MAX_DICT_SIZE=10\n",
    "MAX_STRING_LENGTH=100\n",
    "CHARACTERS=string.printable\n",
    "\n",
    "active_types=[]\n",
    "simple_types=[]\n",
    "\n",
    "def json_int():\n",
    "    return random.randrange(MIN_NUMBER, MAX_NUMBER)\n",
    "\n",
    "def json_float():\n",
    "    return float(random.random()) * float(MAX_NUMBER) * random.choices([-1.0, 1.0])[0]\n",
    "\n",
    "def json_string():\n",
    "    random_string=\"\"\n",
    "    length = random.randrange(0, MAX_STRING_LENGTH)\n",
    "    for i in range(0, length):\n",
    "        random_string += random.choice(INSERT_CHARACTERS)\n",
    "    return random_string\n",
    "\n",
    "def json_bool():\n",
    "    return random.choices([True, False])[0]\n",
    "\n",
    "def json_random_simple_type():\n",
    "    f = random.choices(simple_types)[0]\n",
    "    return f()\n",
    "\n",
    "def json_random_type():\n",
    "    f = random.choices(active_types)[0]\n",
    "    return f()\n",
    "\n",
    "def json_dict():\n",
    "    dict_length = random.randrange(0, MAX_DICT_SIZE)\n",
    "    obj = []\n",
    "    for i in range(0, dict_length):\n",
    "        obj.append(json_random_simple_type())\n",
    "    return obj\n",
    "def json_array():\n",
    "    dict_length = random.randrange(0, MAX_DICT_SIZE)\n",
    "    obj = []\n",
    "    for i in range(0, dict_length):\n",
    "        obj.append(json_random_simple_typr())\n",
    "        return obj\n",
    "\n",
    "simple_types = []\n",
    "simple_types = [json_int, json_float, json_string, json_bool, json_dict, json_array]\n",
    "\n",
    "\n",
    "print(json_dict())\n",
    "\n"
   ]
  },
  {
   "cell_type": "code",
   "execution_count": 8,
   "metadata": {},
   "outputs": [
    {
     "ename": "NameError",
     "evalue": "name 'mutator_case' is not defined",
     "output_type": "error",
     "traceback": [
      "\u001b[0;31m---------------------------------------------------------------------------\u001b[0m",
      "\u001b[0;31mNameError\u001b[0m                                 Traceback (most recent call last)",
      "\u001b[0;32m<ipython-input-8-c957055f3fdc>\u001b[0m in \u001b[0;36m<module>\u001b[0;34m\u001b[0m\n\u001b[0;32m----> 1\u001b[0;31m active_mutators = [mutator_case,\n\u001b[0m\u001b[1;32m      2\u001b[0m                   \u001b[0mmutator_delete\u001b[0m\u001b[0;34m,\u001b[0m\u001b[0;34m\u001b[0m\u001b[0;34m\u001b[0m\u001b[0m\n\u001b[1;32m      3\u001b[0m                   \u001b[0mmutator_insert\u001b[0m\u001b[0;34m,\u001b[0m\u001b[0;34m\u001b[0m\u001b[0;34m\u001b[0m\u001b[0m\n\u001b[1;32m      4\u001b[0m                    mutator_replace]\n\u001b[1;32m      5\u001b[0m \u001b[0;34m\u001b[0m\u001b[0m\n",
      "\u001b[0;31mNameError\u001b[0m: name 'mutator_case' is not defined"
     ]
    }
   ],
   "source": [
    "active_mutators = [mutator_case,\n",
    "                  mutator_delete,\n",
    "                  mutator_insert,\n",
    "                   mutator_replace]\n",
    "\n",
    "max_number_of_mutators = 10\n",
    "\n",
    "def mutate(input_data, run_id):\n",
    "    random.seed(run_id)\n",
    "    \n",
    "    number_of_muations = random.randrange(0, max_number_of_mutators)\n",
    "    for i in range(0, number_of_mutations):\n",
    "        mutatator = random.choice(active_mutators)\n",
    "        input_data = mutator(input_data)"
   ]
  },
  {
   "cell_type": "code",
   "execution_count": null,
   "metadata": {},
   "outputs": [],
   "source": [
    "mutate(\"wafagse\",2)\n"
   ]
  },
  {
   "cell_type": "code",
   "execution_count": null,
   "metadata": {},
   "outputs": [],
   "source": [
    "import subprocess\n",
    "from subprocess import PIPE\n",
    "import subprocess\n",
    "\n",
    "def run_target(argument):\n",
    "    r = subprocess.run([\"./coverage\", argument], shell=False)\n",
    "    #Measure coverage\n",
    "    cov = subprocess.run([\"gcov\", \"-c\", \"-t\",\"./coverage\"], shell =False, stdout=PIPE)\n",
    "    paths_not_taken = cov.stdout.count(b\"####\")\n",
    "    #print(path not taken)\n",
    "    return (r.returncode, paths_not_taken)"
   ]
  },
  {
   "cell_type": "code",
   "execution_count": null,
   "metadata": {},
   "outputs": [],
   "source": [
    "run_id=0\n",
    "input_data = \"A\" * 8\n",
    "iterations = 100\n",
    "\n",
    "\n",
    "#Get coverage baseline\n",
    "current_coverage = run_target(input_data)[1]\n",
    "new_coverage = current_coverage\n",
    "test_cases = [input_data]\n",
    "new_cases = []\n",
    "\n",
    "while True:\n",
    "    for case in test_cases:\n",
    "        for in range(0, 100):\n",
    "            run_id += 1\n",
    "            testcase = mutate(case, run_id)\n",
    "            #print(testcase)\n",
    "            result = run_target(testcase)\n",
    "            \n",
    "            if(result[1] == 0 ):\n",
    "                new_cases.append(testcase)\n",
    "                if(result[1]) < new_coverage):\n",
    "                    new_coverage = result[1]\n",
    "                    \n",
    "            run_id += 1\n",
    "            \n",
    "            \n",
    "    if(len(new_cases) > 0):\n",
    "        print(\"updating cases\")\n",
    "        print(new_cases)\n",
    "        test_cases = new_cases\n",
    "        current_coverage = new_coverage\n",
    "        new_cases = []\n",
    "        \n",
    "    if(result[0]):\n",
    "        print(\"Succeeded\")\n",
    "        print(new_cases)\n",
    "        \n",
    "        \n",
    "        \n",
    "                    "
   ]
  }
 ],
 "metadata": {
  "kernelspec": {
   "display_name": "Python 3",
   "language": "python",
   "name": "python3"
  },
  "language_info": {
   "codemirror_mode": {
    "name": "ipython",
    "version": 3
   },
   "file_extension": ".py",
   "mimetype": "text/x-python",
   "name": "python",
   "nbconvert_exporter": "python",
   "pygments_lexer": "ipython3",
   "version": "3.8.2"
  }
 },
 "nbformat": 4,
 "nbformat_minor": 4
}
