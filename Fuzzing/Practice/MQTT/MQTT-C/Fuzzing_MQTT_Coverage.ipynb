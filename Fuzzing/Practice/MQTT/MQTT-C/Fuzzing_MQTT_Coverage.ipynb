{
 "cells": [
  {
   "cell_type": "code",
   "execution_count": 23,
   "metadata": {},
   "outputs": [],
   "source": [
    "#Mutation based fuzzer\n",
    "\n",
    "\n",
    "import random\n",
    "import string\n",
    "\n",
    "#config\n",
    "MAX_NUMBER_OF_MUTATORS = 20\n",
    "INSERT_MAX_LENGTH = 30\n",
    "DELETE_MAX_LENGTH = 20\n",
    "\n",
    "ALL_ASCII = []\n",
    "for i in range(0, 128):\n",
    "    ALL_ASCII.append(chr(i))\n",
    "\n",
    "def mutator_insert(input_data):\n",
    "    length = random.randrange(5, INSERT_MAX_LENGTH)\n",
    "    position = random.randrange(0, len(input_data))\n",
    "    random_bytes = bytearray()\n",
    "    #random_bytes = \"\"\n",
    "    random_bytes += bytes([random.randrange(0, 255)])\n",
    "    return input_data[:position] + random_bytes + input_data[position:]\n",
    "\n",
    "def mutator_delete(input_data):\n",
    "    length = len(input_data)\n",
    "    position = random.randrange(5, length)\n",
    "    count = random.randrange(0, min(length, DELETE_MAX_LENGTH))\n",
    "    return input_data[:position] + input_data[position+count:]\n",
    "        \n",
    "active_mutators=[mutator_insert, mutator_delete]\n",
    "#active_mutators=[mutator_insert]\n",
    "\n",
    "def mutate_corpus(corpus,run_id):\n",
    "    random.seed(run_id)\n",
    "    active_corpus=random.choice(corpus)\n",
    "    return mutate(active_corpus, run_id)\n",
    "\n",
    "def mutate(input_data, run_id):\n",
    "    random.seed(run_id)\n",
    "    number_of_mutations = random.randint(0, MAX_NUMBER_OF_MUTATORS)\n",
    "    for i in range(0, number_of_mutations):\n",
    "        mutator = random.choice(active_mutators)\n",
    "        input_data = mutator(input_data)\n",
    "    return input_data\n",
    "\n",
    "    "
   ]
  },
  {
   "cell_type": "code",
   "execution_count": 24,
   "metadata": {},
   "outputs": [],
   "source": [
    "# Corpus\n",
    "#mutate(bytes(10), 1)\n",
    "#import glob\n",
    "#print(glob.glob(\"./corpus/*\"))\n",
    "#corpus_files = glob.glob(\"./corpus/*\")\n",
    "#corpus=[]\n",
    "\n",
    "#for file in corpus_files:\n",
    "#    with open(file, \"rb\") as f:\n",
    "#        corpus.append(f.read())\n",
    "\n",
    "#print(mutate_corpus(corpus,1))\n",
    "\n",
    "corpus = [b'AAAAAAAAAAAAAAAAAAAAAAAAAAAAAAAAAAAAAAAAA']"
   ]
  },
  {
   "cell_type": "code",
   "execution_count": 25,
   "metadata": {},
   "outputs": [],
   "source": [
    "import subprocess\n",
    "\n",
    "def runner(testcase):\n",
    "    print(f\"Executing test case - {testcase}%\")\n",
    "    with open(\"testcase.bin\", \"wb\") as f:\n",
    "        f.write(testcase)\n",
    "        f.close()\n",
    "    result = subprocess.run([\"./mqtt\", \"testcase.bin\"], shell=False, timeout=1, env={\"LSAN_OPTIONS\" : \"detect_leaks=0\"})\n",
    "    return result.returncode\n",
    "\n",
    "#def runner(testcase):\n",
    "#    result = subprocess.run([\"./coverage\", testcase], shell=False, timeout =1)\n",
    "#    return result.returncode"
   ]
  },
  {
   "cell_type": "code",
   "execution_count": 26,
   "metadata": {},
   "outputs": [],
   "source": [
    "#runner(b\"asdffffhgkhgjhghjg\")"
   ]
  },
  {
   "cell_type": "code",
   "execution_count": 28,
   "metadata": {},
   "outputs": [
    {
     "name": "stdout",
     "output_type": "stream",
     "text": [
      "Executing test case - b'AAAAAAAAAAAAAAAAAAAAAAAAAAAAAAAAAAAAAAAAA'%\n",
      "Base Coverage is 5%\n"
     ]
    },
    {
     "ename": "ValueError",
     "evalue": "empty range for randrange() (5, 5, 0)",
     "output_type": "error",
     "traceback": [
      "\u001b[0;31m---------------------------------------------------------------------------\u001b[0m",
      "\u001b[0;31mValueError\u001b[0m                                Traceback (most recent call last)",
      "\u001b[0;32m<ipython-input-28-b30b29e1d76b>\u001b[0m in \u001b[0;36m<module>\u001b[0;34m\u001b[0m\n\u001b[1;32m     20\u001b[0m \u001b[0mprint\u001b[0m\u001b[0;34m(\u001b[0m\u001b[0;34mf\"Base Coverage is {current_coverage}%\"\u001b[0m\u001b[0;34m)\u001b[0m\u001b[0;34m\u001b[0m\u001b[0;34m\u001b[0m\u001b[0m\n\u001b[1;32m     21\u001b[0m \u001b[0;32mwhile\u001b[0m \u001b[0;32mTrue\u001b[0m\u001b[0;34m:\u001b[0m\u001b[0;34m\u001b[0m\u001b[0;34m\u001b[0m\u001b[0m\n\u001b[0;32m---> 22\u001b[0;31m     \u001b[0mtestcase\u001b[0m \u001b[0;34m=\u001b[0m \u001b[0mmutate_corpus\u001b[0m\u001b[0;34m(\u001b[0m\u001b[0mcorpus\u001b[0m\u001b[0;34m,\u001b[0m \u001b[0mrun_id\u001b[0m\u001b[0;34m)\u001b[0m\u001b[0;34m\u001b[0m\u001b[0;34m\u001b[0m\u001b[0m\n\u001b[0m\u001b[1;32m     23\u001b[0m     \u001b[0mresult\u001b[0m\u001b[0;34m=\u001b[0m\u001b[0mrunner\u001b[0m\u001b[0;34m(\u001b[0m\u001b[0mtestcase\u001b[0m\u001b[0;34m)\u001b[0m\u001b[0;34m\u001b[0m\u001b[0;34m\u001b[0m\u001b[0m\n\u001b[1;32m     24\u001b[0m \u001b[0;34m\u001b[0m\u001b[0m\n",
      "\u001b[0;32m<ipython-input-23-baf531aad7f0>\u001b[0m in \u001b[0;36mmutate_corpus\u001b[0;34m(corpus, run_id)\u001b[0m\n\u001b[1;32m     34\u001b[0m     \u001b[0mrandom\u001b[0m\u001b[0;34m.\u001b[0m\u001b[0mseed\u001b[0m\u001b[0;34m(\u001b[0m\u001b[0mrun_id\u001b[0m\u001b[0;34m)\u001b[0m\u001b[0;34m\u001b[0m\u001b[0;34m\u001b[0m\u001b[0m\n\u001b[1;32m     35\u001b[0m     \u001b[0mactive_corpus\u001b[0m\u001b[0;34m=\u001b[0m\u001b[0mrandom\u001b[0m\u001b[0;34m.\u001b[0m\u001b[0mchoice\u001b[0m\u001b[0;34m(\u001b[0m\u001b[0mcorpus\u001b[0m\u001b[0;34m)\u001b[0m\u001b[0;34m\u001b[0m\u001b[0;34m\u001b[0m\u001b[0m\n\u001b[0;32m---> 36\u001b[0;31m     \u001b[0;32mreturn\u001b[0m \u001b[0mmutate\u001b[0m\u001b[0;34m(\u001b[0m\u001b[0mactive_corpus\u001b[0m\u001b[0;34m,\u001b[0m \u001b[0mrun_id\u001b[0m\u001b[0;34m)\u001b[0m\u001b[0;34m\u001b[0m\u001b[0;34m\u001b[0m\u001b[0m\n\u001b[0m\u001b[1;32m     37\u001b[0m \u001b[0;34m\u001b[0m\u001b[0m\n\u001b[1;32m     38\u001b[0m \u001b[0;32mdef\u001b[0m \u001b[0mmutate\u001b[0m\u001b[0;34m(\u001b[0m\u001b[0minput_data\u001b[0m\u001b[0;34m,\u001b[0m \u001b[0mrun_id\u001b[0m\u001b[0;34m)\u001b[0m\u001b[0;34m:\u001b[0m\u001b[0;34m\u001b[0m\u001b[0;34m\u001b[0m\u001b[0m\n",
      "\u001b[0;32m<ipython-input-23-baf531aad7f0>\u001b[0m in \u001b[0;36mmutate\u001b[0;34m(input_data, run_id)\u001b[0m\n\u001b[1;32m     41\u001b[0m     \u001b[0;32mfor\u001b[0m \u001b[0mi\u001b[0m \u001b[0;32min\u001b[0m \u001b[0mrange\u001b[0m\u001b[0;34m(\u001b[0m\u001b[0;36m0\u001b[0m\u001b[0;34m,\u001b[0m \u001b[0mnumber_of_mutations\u001b[0m\u001b[0;34m)\u001b[0m\u001b[0;34m:\u001b[0m\u001b[0;34m\u001b[0m\u001b[0;34m\u001b[0m\u001b[0m\n\u001b[1;32m     42\u001b[0m         \u001b[0mmutator\u001b[0m \u001b[0;34m=\u001b[0m \u001b[0mrandom\u001b[0m\u001b[0;34m.\u001b[0m\u001b[0mchoice\u001b[0m\u001b[0;34m(\u001b[0m\u001b[0mactive_mutators\u001b[0m\u001b[0;34m)\u001b[0m\u001b[0;34m\u001b[0m\u001b[0;34m\u001b[0m\u001b[0m\n\u001b[0;32m---> 43\u001b[0;31m         \u001b[0minput_data\u001b[0m \u001b[0;34m=\u001b[0m \u001b[0mmutator\u001b[0m\u001b[0;34m(\u001b[0m\u001b[0minput_data\u001b[0m\u001b[0;34m)\u001b[0m\u001b[0;34m\u001b[0m\u001b[0;34m\u001b[0m\u001b[0m\n\u001b[0m\u001b[1;32m     44\u001b[0m     \u001b[0;32mreturn\u001b[0m \u001b[0minput_data\u001b[0m\u001b[0;34m\u001b[0m\u001b[0;34m\u001b[0m\u001b[0m\n\u001b[1;32m     45\u001b[0m \u001b[0;34m\u001b[0m\u001b[0m\n",
      "\u001b[0;32m<ipython-input-23-baf531aad7f0>\u001b[0m in \u001b[0;36mmutator_delete\u001b[0;34m(input_data)\u001b[0m\n\u001b[1;32m     24\u001b[0m \u001b[0;32mdef\u001b[0m \u001b[0mmutator_delete\u001b[0m\u001b[0;34m(\u001b[0m\u001b[0minput_data\u001b[0m\u001b[0;34m)\u001b[0m\u001b[0;34m:\u001b[0m\u001b[0;34m\u001b[0m\u001b[0;34m\u001b[0m\u001b[0m\n\u001b[1;32m     25\u001b[0m     \u001b[0mlength\u001b[0m \u001b[0;34m=\u001b[0m \u001b[0mlen\u001b[0m\u001b[0;34m(\u001b[0m\u001b[0minput_data\u001b[0m\u001b[0;34m)\u001b[0m\u001b[0;34m\u001b[0m\u001b[0;34m\u001b[0m\u001b[0m\n\u001b[0;32m---> 26\u001b[0;31m     \u001b[0mposition\u001b[0m \u001b[0;34m=\u001b[0m \u001b[0mrandom\u001b[0m\u001b[0;34m.\u001b[0m\u001b[0mrandrange\u001b[0m\u001b[0;34m(\u001b[0m\u001b[0;36m5\u001b[0m\u001b[0;34m,\u001b[0m \u001b[0mlength\u001b[0m\u001b[0;34m)\u001b[0m\u001b[0;34m\u001b[0m\u001b[0;34m\u001b[0m\u001b[0m\n\u001b[0m\u001b[1;32m     27\u001b[0m     \u001b[0mcount\u001b[0m \u001b[0;34m=\u001b[0m \u001b[0mrandom\u001b[0m\u001b[0;34m.\u001b[0m\u001b[0mrandrange\u001b[0m\u001b[0;34m(\u001b[0m\u001b[0;36m0\u001b[0m\u001b[0;34m,\u001b[0m \u001b[0mmin\u001b[0m\u001b[0;34m(\u001b[0m\u001b[0mlength\u001b[0m\u001b[0;34m,\u001b[0m \u001b[0mDELETE_MAX_LENGTH\u001b[0m\u001b[0;34m)\u001b[0m\u001b[0;34m)\u001b[0m\u001b[0;34m\u001b[0m\u001b[0;34m\u001b[0m\u001b[0m\n\u001b[1;32m     28\u001b[0m     \u001b[0;32mreturn\u001b[0m \u001b[0minput_data\u001b[0m\u001b[0;34m[\u001b[0m\u001b[0;34m:\u001b[0m\u001b[0mposition\u001b[0m\u001b[0;34m]\u001b[0m \u001b[0;34m+\u001b[0m \u001b[0minput_data\u001b[0m\u001b[0;34m[\u001b[0m\u001b[0mposition\u001b[0m\u001b[0;34m+\u001b[0m\u001b[0mcount\u001b[0m\u001b[0;34m:\u001b[0m\u001b[0;34m]\u001b[0m\u001b[0;34m\u001b[0m\u001b[0;34m\u001b[0m\u001b[0m\n",
      "\u001b[0;32m/usr/lib/python3.9/random.py\u001b[0m in \u001b[0;36mrandrange\u001b[0;34m(self, start, stop, step)\u001b[0m\n\u001b[1;32m    314\u001b[0m             \u001b[0;32mreturn\u001b[0m \u001b[0mistart\u001b[0m \u001b[0;34m+\u001b[0m \u001b[0mself\u001b[0m\u001b[0;34m.\u001b[0m\u001b[0m_randbelow\u001b[0m\u001b[0;34m(\u001b[0m\u001b[0mwidth\u001b[0m\u001b[0;34m)\u001b[0m\u001b[0;34m\u001b[0m\u001b[0;34m\u001b[0m\u001b[0m\n\u001b[1;32m    315\u001b[0m         \u001b[0;32mif\u001b[0m \u001b[0mstep\u001b[0m \u001b[0;34m==\u001b[0m \u001b[0;36m1\u001b[0m\u001b[0;34m:\u001b[0m\u001b[0;34m\u001b[0m\u001b[0;34m\u001b[0m\u001b[0m\n\u001b[0;32m--> 316\u001b[0;31m             \u001b[0;32mraise\u001b[0m \u001b[0mValueError\u001b[0m\u001b[0;34m(\u001b[0m\u001b[0;34m\"empty range for randrange() (%d, %d, %d)\"\u001b[0m \u001b[0;34m%\u001b[0m \u001b[0;34m(\u001b[0m\u001b[0mistart\u001b[0m\u001b[0;34m,\u001b[0m \u001b[0mistop\u001b[0m\u001b[0;34m,\u001b[0m \u001b[0mwidth\u001b[0m\u001b[0;34m)\u001b[0m\u001b[0;34m)\u001b[0m\u001b[0;34m\u001b[0m\u001b[0;34m\u001b[0m\u001b[0m\n\u001b[0m\u001b[1;32m    317\u001b[0m \u001b[0;34m\u001b[0m\u001b[0m\n\u001b[1;32m    318\u001b[0m         \u001b[0;31m# Non-unit step argument supplied.\u001b[0m\u001b[0;34m\u001b[0m\u001b[0;34m\u001b[0m\u001b[0;34m\u001b[0m\u001b[0m\n",
      "\u001b[0;31mValueError\u001b[0m: empty range for randrange() (5, 5, 0)"
     ]
    }
   ],
   "source": [
    "!rm mqtt.c.gcov\n",
    "!rm mqtt_pal.gcno\n",
    "!rm mqtt.gcno\n",
    "#!gcc -g -fsanitize=address mqtt-fuzzer.c -Iinclude src/* -o mqtt-fuzzer_gcc\n",
    "#!gcc --coverage coverage.c -o coverage\n",
    "#!clang -g -O0 -fsanitize=address mqtt-fuzzer.c -Iinclude src/* -o mqtt-fuzzer\n",
    "#!clang -g -fsanitize=address mqtt-fuzzer.c -Iinclude src/* -o mqtt-fuzzer\n",
    "!gcc -g --coverage -fsanitize=address -Iinclude src/* -o mqtt\n",
    "\n",
    "# #Dry run to determine base coverage\n",
    "for c in corpus:\n",
    "    runner(c)\n",
    "\n",
    "def get_coverage():\n",
    "    r = subprocess.run([\"gcov\", \"mqtt\"], stdout=subprocess.PIPE)\n",
    "    return int(float(r.stdout.decode('utf-8').split('Lines executed:')[1].split('% of')[0]))\n",
    "    \n",
    "run_id =0 \n",
    "current_coverage=get_coverage()\n",
    "print(f\"Base Coverage is {current_coverage}%\")\n",
    "while True:\n",
    "    testcase = mutate_corpus(corpus, run_id)\n",
    "    result=runner(testcase)\n",
    "\n",
    "    coverage =get_coverage()\n",
    "    \n",
    "    #check if coverage increased\n",
    "    if(coverage > current_coverage):\n",
    "        current_coverage = coverage\n",
    "        corpus.append(testcase)\n",
    "        print(\"Current coverage - \" + str(current_coverage) + \"%\")\n",
    "    \n",
    "\n",
    "\n",
    "\n",
    "# while True:\n",
    "#     testcase = mutate_corpus(corpus, run_id)\n",
    "#     result = runner(testcase)\n",
    "#     #print(result)\n",
    "#     #print(f\"resultcode - {result}\")\n",
    "#     #if result is not None:\n",
    "#     if result != 0:\n",
    "#         print(f\"Sucess : {run_id}\")\n",
    "#     run_id +=1"
   ]
  },
  {
   "cell_type": "code",
   "execution_count": 13,
   "metadata": {},
   "outputs": [
    {
     "name": "stdout",
     "output_type": "stream",
     "text": [
      "b'<\\x11(+{;\\xa0AAAAAAA\\xda\\xf1^hp\\xa1\\x08\\xeb#(AA'\n",
      "1\n"
     ]
    }
   ],
   "source": [
    "testcase = mutate_corpus(corpus, 52)\n",
    "result = runner(testcase)\n",
    "print(testcase)\n",
    "print(result)"
   ]
  },
  {
   "cell_type": "code",
   "execution_count": null,
   "metadata": {},
   "outputs": [],
   "source": []
  }
 ],
 "metadata": {
  "kernelspec": {
   "display_name": "Python 3",
   "language": "python",
   "name": "python3"
  },
  "language_info": {
   "codemirror_mode": {
    "name": "ipython",
    "version": 3
   },
   "file_extension": ".py",
   "mimetype": "text/x-python",
   "name": "python",
   "nbconvert_exporter": "python",
   "pygments_lexer": "ipython3",
   "version": "3.9.1"
  }
 },
 "nbformat": 4,
 "nbformat_minor": 4
}
