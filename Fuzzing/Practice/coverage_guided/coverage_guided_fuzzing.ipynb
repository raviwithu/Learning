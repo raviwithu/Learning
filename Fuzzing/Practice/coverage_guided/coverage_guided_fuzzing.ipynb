{
 "cells": [
  {
   "cell_type": "code",
   "execution_count": 65,
   "metadata": {},
   "outputs": [],
   "source": [
    "#Mutation based fuzzer\n",
    "\n",
    "\n",
    "import random\n",
    "import string\n",
    "\n",
    "#config\n",
    "MAX_NUMBER_OF_MUTATORS = 10\n",
    "INSERT_MAX_LENGTH = 10\n",
    "DELETE_MAX_LENGTH = 10\n",
    "\n",
    "ALL_ASCII = []\n",
    "for i in range(0, 128):\n",
    "    ALL_ASCII.append(chr(i))\n",
    "\n",
    "def mutator_insert(input_data):\n",
    "    length = random.randrange(0, INSERT_MAX_LENGTH)\n",
    "    position = random.randrange(0, len(input_data))\n",
    "    #random_bytes = bytearray()\n",
    "    random_bytes = \"\"\n",
    "    for i in range(0, length):\n",
    "        #random_bytes += bytes([random.randrange(0, 255)])\n",
    "        random_bytes += random.choice(string.printable)\n",
    "    return input_data[:position] + random_bytes + input_data[position:]\n",
    "\n",
    "def mutator_delete(input_data):\n",
    "    length = len(input_data)\n",
    "    position = random.randrange(8, length)\n",
    "    count = random.randrange(0, min(length, DELETE_MAX_LENGTH))\n",
    "    return input_data[:position] + input_data[position+count:]\n",
    "        \n",
    "#active_mutators=[mutator_insert, mutator_delete]\n",
    "active_mutators=[mutator_insert]\n",
    "\n",
    "def mutate_corpus(corpus,run_id):\n",
    "    random.seed(run_id)\n",
    "    active_corpus=random.choice(corpus)\n",
    "    return mutate(active_corpus, run_id)\n",
    "\n",
    "def mutate(input_data, run_id):\n",
    "    random.seed(run_id)\n",
    "    number_of_mutations = random.randint(0, MAX_NUMBER_OF_MUTATORS)\n",
    "    for i in range(0, number_of_mutations):\n",
    "        mutator = random.choice(active_mutators)\n",
    "        input_data = mutator(input_data)\n",
    "    return input_data\n",
    "\n",
    "    "
   ]
  },
  {
   "cell_type": "code",
   "execution_count": null,
   "metadata": {},
   "outputs": [],
   "source": []
  },
  {
   "cell_type": "code",
   "execution_count": 66,
   "metadata": {},
   "outputs": [],
   "source": [
    "#mutate(bytes(10), 1)\n",
    "#import glob\n",
    "#print(glob.glob(\"./corpus/*\"))\n",
    "#corpus_files = glob.glob(\"./corpus/*\")\n",
    "#corpus=[]\n",
    "\n",
    "#for file in corpus_files:\n",
    "#    with open(file, \"rb\") as f:\n",
    "#        corpus.append(f.read())\n",
    "\n",
    "        \n",
    "#print(mutate_corpus(corpus,1))\n",
    " #####:   16:            if(password[2] == 'c'){\n",
    "    #####:   17:                if(password[3] == 'd #####:   16:            if(password[2] == 'c'){\n",
    "    #####:   17:                if(password[3] == 'd'){\n",
    "    #####:   18:                    if(password[4] == 'e'){\n",
    "    #####:   19:                        if(password[5] == 'f'){\n",
    "    #####:   20:                            if(password[6] == 'g'){\n",
    "    #####:   21:       '){\n",
    "    #####:   18:                    if(password[4] == 'e'){\n",
    "    #####:   19:                        if(password[5] == 'f'){\n",
    "    #####:   20:                            if(password[6] == 'g'){\n",
    "    #####:   21:       \n",
    "base_corpus = [\"Test\", ]"
   ]
  },
  {
   "cell_type": "code",
   "execution_count": 67,
   "metadata": {},
   "outputs": [],
   "source": [
    "import subprocess\n",
    "\n",
    "#def runner(testcase):\n",
    "#    with open(\"testcase.json\", \"wb\") as f:\n",
    "#        f.write(testcase)\n",
    "#        f.close()\n",
    "#    result = subprocess.run([\"./coverage\", testcase], shell=False, timeout=1)\n",
    "\n",
    "def runner(testcase):\n",
    "    result = subprocess.run([\"./coverage\", testcase], shell=False, timeout =1)\n",
    "    return result.returncode"
   ]
  },
  {
   "cell_type": "code",
   "execution_count": 68,
   "metadata": {},
   "outputs": [
    {
     "data": {
      "text/plain": [
       "0"
      ]
     },
     "execution_count": 68,
     "metadata": {},
     "output_type": "execute_result"
    }
   ],
   "source": [
    "runner(b\"asdf\")"
   ]
  },
  {
   "cell_type": "markdown",
   "metadata": {},
   "source": [
    "#Fuzzing"
   ]
  },
  {
   "cell_type": "code",
   "execution_count": null,
   "metadata": {
    "scrolled": false
   },
   "outputs": [
    {
     "name": "stdout",
     "output_type": "stream",
     "text": [
      "Current coverage - 33%\n",
      "Current coverage - 40%\n"
     ]
    }
   ],
   "source": [
    "#!clang -fsanitize=address cJSON.c cJSON-fuzzer.c -o cJSON-fuzzer -lm\n",
    "!rm coverage.gcda \n",
    "!rm coverage.gcno\n",
    "!gcc --coverage coverage.c -o coverage\n",
    "\n",
    "\n",
    "run_id =0 \n",
    "current_coverage=0\n",
    "while True:\n",
    "    testcase = mutate_corpus(corpus, run_id)\n",
    "    result=runner(testcase)\n",
    "    \n",
    "    r = subprocess.run([\"gcov\", \"coverage\"], stdout=subprocess.PIPE)\n",
    "    #print(r.stdout)\n",
    "    coverage =int(float(r.stdout.decode('utf-8').split('Lines executed:')[1].split('% of')[0]))\n",
    "    \n",
    "    #check if coverage increased\n",
    "    if(coverage > current_coverage):\n",
    "        current_coverage = coverage\n",
    "        base_corpus = [testcase]\n",
    "        print(\"Current coverage - \" + str(current_coverage) + \"%\")\n",
    "    \n",
    "    if result != 0:\n",
    "        print(f\"Success : {run_id}\")\n",
    "        \n",
    "    run_id +=1"
   ]
  },
  {
   "cell_type": "code",
   "execution_count": null,
   "metadata": {},
   "outputs": [],
   "source": [
    "#testcase = mutate_corpus(corpus, 1931)\n",
    "#result=runner(testcase)\n",
    "#print(testcase)\n",
    "#print(result)"
   ]
  },
  {
   "cell_type": "code",
   "execution_count": null,
   "metadata": {},
   "outputs": [],
   "source": []
  },
  {
   "cell_type": "code",
   "execution_count": null,
   "metadata": {},
   "outputs": [],
   "source": []
  }
 ],
 "metadata": {
  "kernelspec": {
   "display_name": "Python 3",
   "language": "python",
   "name": "python3"
  },
  "language_info": {
   "codemirror_mode": {
    "name": "ipython",
    "version": 3
   },
   "file_extension": ".py",
   "mimetype": "text/x-python",
   "name": "python",
   "nbconvert_exporter": "python",
   "pygments_lexer": "ipython3",
   "version": "3.8.5"
  }
 },
 "nbformat": 4,
 "nbformat_minor": 4
}
